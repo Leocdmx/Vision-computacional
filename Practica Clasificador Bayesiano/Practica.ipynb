{
 "cells": [
  {
   "cell_type": "code",
   "execution_count": null,
   "metadata": {},
   "outputs": [],
   "source": [
    "'/Users/Leon/Library/CloudStorage/GoogleDrive-leoactuario@ciencias.unam.mx/Mi unidad/maestria/ia/segundo semestre/Visión compuacional/Practica Clasificador Bayesiano/Comida.rar'"
   ]
  },
  {
   "cell_type": "code",
   "execution_count": 3,
   "metadata": {},
   "outputs": [
    {
     "name": "stdout",
     "output_type": "stream",
     "text": [
      "Extrayendo archivos de: /Users/Leon/Library/CloudStorage/GoogleDrive-leoactuario@ciencias.unam.mx/Mi unidad/maestria/ia/segundo semestre/Visión compuacional/Practica Clasificador Bayesiano/Comida.rar\n",
      "Ocurrió un error: Failed the read enough data: req=65536 got=51\n"
     ]
    }
   ],
   "source": [
    "import rarfile\n",
    "import os\n",
    "\n",
    "def extraer_rar(archivo_rar, destino='.'):\n",
    "    if not rarfile.is_rarfile(archivo_rar):\n",
    "        print(f\"{archivo_rar} no es un archivo .rar válido.\")\n",
    "        return\n",
    "\n",
    "    try:\n",
    "        with rarfile.RarFile(archivo_rar) as rf:\n",
    "            print(f\"Extrayendo archivos de: {archivo_rar}\")\n",
    "            rf.extractall(path=destino)\n",
    "            print(f\"Archivos extraídos en: {destino}\")\n",
    "    except rarfile.Error as e:\n",
    "        print(f\"Ocurrió un error: {e}\")\n",
    "\n",
    "# Ejemplo de uso\n",
    "ruta_rar = '/Users/Leon/Library/CloudStorage/GoogleDrive-leoactuario@ciencias.unam.mx/Mi unidad/maestria/ia/segundo semestre/Visión compuacional/Practica Clasificador Bayesiano/Comida.rar'\n",
    "directorio_destino = '/Users/Leon/Library/CloudStorage/GoogleDrive-leoactuario@ciencias.unam.mx/Mi unidad/maestria/ia/segundo semestre/Visión compuacional/Practica Clasificador Bayesiano/extraido'\n",
    "os.makedirs(directorio_destino, exist_ok=True)\n",
    "\n",
    "extraer_rar(ruta_rar, directorio_destino)\n"
   ]
  },
  {
   "cell_type": "code",
   "execution_count": 2,
   "metadata": {},
   "outputs": [
    {
     "name": "stdout",
     "output_type": "stream",
     "text": [
      "Estás en la ruta: /Users/Leon/Documents/GitHub/Vision-computacional/Practica Clasificador Bayesiano\n"
     ]
    }
   ],
   "source": [
    "import os\n",
    "\n",
    "ruta_actual = os.getcwd()\n",
    "print(\"Estás en la ruta:\", ruta_actual)\n"
   ]
  },
  {
   "cell_type": "code",
   "execution_count": null,
   "metadata": {},
   "outputs": [],
   "source": [
    "'/Users/Leon/Documents/GitHub/Vision-computacional/Practica' \n",
    "'/Users/Leon/Library/CloudStorage/GoogleDrive-leoactuario@ciencias.unam.mx/Mi\\ unidad/maestria/ia/segundo semestre/Visión compuacional/Practica Clasificador Bayesiano/Comida.rar'\n",
    "'/Users/Leon/Library/CloudStorage/GoogleDrive-leoactuario@ciencias.unam.mx/Mi unidad/maestria/ia/segundo semestre/Visión compuacional/Practica Clasificador Bayesiano/Comida.rar'\n",
    "/Users/Leon/Library/CloudStorage/GoogleDrive-leoactuario@ciencias.unam.mx/Mi unidad/maestria/ia/segundo semestre/Visión compuacional/Practica Clasificador Bayesiano"
   ]
  },
  {
   "cell_type": "code",
   "execution_count": 4,
   "metadata": {},
   "outputs": [
    {
     "name": "stdout",
     "output_type": "stream",
     "text": [
      "Defaulting to user installation because normal site-packages is not writeable\n",
      "Collecting labelme\n",
      "  Downloading labelme-5.8.1-py3-none-any.whl (1.4 MB)\n",
      "\u001b[K     |████████████████████████████████| 1.4 MB 2.0 MB/s eta 0:00:01\n",
      "\u001b[?25hCollecting pyqt5>=5.14.0\n",
      "  Downloading PyQt5-5.15.11-cp38-abi3-macosx_11_0_x86_64.whl (7.0 MB)\n",
      "\u001b[K     |████████████████████████████████| 7.0 MB 34.5 MB/s eta 0:00:01\n",
      "\u001b[?25hCollecting imgviz\n",
      "  Downloading imgviz-1.7.6-py3-none-any.whl (7.7 MB)\n",
      "\u001b[K     |████████████████████████████████| 7.7 MB 13.8 MB/s eta 0:00:01\n",
      "\u001b[?25hCollecting pyyaml\n",
      "  Downloading PyYAML-6.0.2-cp39-cp39-macosx_10_9_x86_64.whl (184 kB)\n",
      "\u001b[K     |████████████████████████████████| 184 kB 17.0 MB/s eta 0:00:01\n",
      "\u001b[?25hCollecting scikit-image\n",
      "  Downloading scikit_image-0.24.0-cp39-cp39-macosx_10_9_x86_64.whl (14.1 MB)\n",
      "\u001b[K     |████████████████████████████████| 14.1 MB 9.7 MB/s eta 0:00:011\n",
      "\u001b[?25hRequirement already satisfied: matplotlib in /Users/Leon/Library/Python/3.9/lib/python/site-packages (from labelme) (3.9.4)\n",
      "Requirement already satisfied: numpy in /Users/Leon/Library/Python/3.9/lib/python/site-packages (from labelme) (2.0.2)\n",
      "Requirement already satisfied: pillow>=2.8 in /Users/Leon/Library/Python/3.9/lib/python/site-packages (from labelme) (11.1.0)\n",
      "Collecting natsort>=7.1.0\n",
      "  Downloading natsort-8.4.0-py3-none-any.whl (38 kB)\n",
      "Collecting loguru\n",
      "  Downloading loguru-0.7.3-py3-none-any.whl (61 kB)\n",
      "\u001b[K     |████████████████████████████████| 61 kB 343 kB/s  eta 0:00:01\n",
      "\u001b[?25hCollecting osam>=0.2.3\n",
      "  Downloading osam-0.2.3-py3-none-any.whl (2.2 MB)\n",
      "\u001b[K     |████████████████████████████████| 2.2 MB 13.3 MB/s eta 0:00:01\n",
      "\u001b[?25hCollecting pydantic\n",
      "  Downloading pydantic-2.10.6-py3-none-any.whl (431 kB)\n",
      "\u001b[K     |████████████████████████████████| 431 kB 15.4 MB/s eta 0:00:01\n",
      "\u001b[?25hCollecting click\n",
      "  Downloading click-8.1.8-py3-none-any.whl (98 kB)\n",
      "\u001b[K     |████████████████████████████████| 98 kB 8.3 MB/s  eta 0:00:01\n",
      "\u001b[?25hCollecting onnxruntime!=1.16.0,!=1.20.0,!=1.20.1,>=1.14.1\n",
      "  Downloading onnxruntime-1.19.2-cp39-cp39-macosx_11_0_universal2.whl (16.8 MB)\n",
      "\u001b[K     |████████████████████████████████| 16.8 MB 10.3 MB/s eta 0:00:01\n",
      "\u001b[?25hCollecting gdown\n",
      "  Downloading gdown-5.2.0-py3-none-any.whl (18 kB)\n",
      "Collecting sympy\n",
      "  Downloading sympy-1.13.3-py3-none-any.whl (6.2 MB)\n",
      "\u001b[K     |████████████████████████████████| 6.2 MB 13.2 MB/s eta 0:00:01\n",
      "\u001b[?25hCollecting coloredlogs\n",
      "  Downloading coloredlogs-15.0.1-py2.py3-none-any.whl (46 kB)\n",
      "\u001b[K     |████████████████████████████████| 46 kB 7.7 MB/s  eta 0:00:01\n",
      "\u001b[?25hCollecting protobuf\n",
      "  Downloading protobuf-6.30.1-cp39-abi3-macosx_10_9_universal2.whl (417 kB)\n",
      "\u001b[K     |████████████████████████████████| 417 kB 14.2 MB/s eta 0:00:01\n",
      "\u001b[?25hRequirement already satisfied: packaging in /Users/Leon/Library/Python/3.9/lib/python/site-packages (from onnxruntime!=1.16.0,!=1.20.0,!=1.20.1,>=1.14.1->osam>=0.2.3->labelme) (24.2)\n",
      "Collecting flatbuffers\n",
      "  Downloading flatbuffers-25.2.10-py2.py3-none-any.whl (30 kB)\n",
      "Collecting PyQt5-sip<13,>=12.15\n",
      "  Downloading PyQt5_sip-12.17.0-cp39-cp39-macosx_10_9_universal2.whl (122 kB)\n",
      "\u001b[K     |████████████████████████████████| 122 kB 11.1 MB/s eta 0:00:01\n",
      "\u001b[?25hCollecting PyQt5-Qt5<5.16.0,>=5.15.2\n",
      "  Downloading PyQt5_Qt5-5.15.16-py3-none-macosx_10_13_x86_64.whl (40.0 MB)\n",
      "\u001b[K     |████████████████████████████████| 40.0 MB 71 kB/s s eta 0:00:01\n",
      "\u001b[?25hCollecting humanfriendly>=9.1\n",
      "  Downloading humanfriendly-10.0-py2.py3-none-any.whl (86 kB)\n",
      "\u001b[K     |████████████████████████████████| 86 kB 7.4 MB/s  eta 0:00:01\n",
      "\u001b[?25hCollecting requests[socks]\n",
      "  Downloading requests-2.32.3-py3-none-any.whl (64 kB)\n",
      "\u001b[K     |████████████████████████████████| 64 kB 7.7 MB/s  eta 0:00:01\n",
      "\u001b[?25hCollecting beautifulsoup4\n",
      "  Downloading beautifulsoup4-4.13.3-py3-none-any.whl (186 kB)\n",
      "\u001b[K     |████████████████████████████████| 186 kB 15.1 MB/s eta 0:00:01\n",
      "\u001b[?25hCollecting filelock\n",
      "  Downloading filelock-3.18.0-py3-none-any.whl (16 kB)\n",
      "Collecting tqdm\n",
      "  Downloading tqdm-4.67.1-py3-none-any.whl (78 kB)\n",
      "\u001b[K     |████████████████████████████████| 78 kB 9.7 MB/s  eta 0:00:01\n",
      "\u001b[?25hRequirement already satisfied: typing-extensions>=4.0.0 in /Users/Leon/Library/Python/3.9/lib/python/site-packages (from beautifulsoup4->gdown->osam>=0.2.3->labelme) (4.12.2)\n",
      "Collecting soupsieve>1.2\n",
      "  Downloading soupsieve-2.6-py3-none-any.whl (36 kB)\n",
      "Requirement already satisfied: fonttools>=4.22.0 in /Users/Leon/Library/Python/3.9/lib/python/site-packages (from matplotlib->labelme) (4.56.0)\n",
      "Requirement already satisfied: cycler>=0.10 in /Users/Leon/Library/Python/3.9/lib/python/site-packages (from matplotlib->labelme) (0.12.1)\n",
      "Requirement already satisfied: kiwisolver>=1.3.1 in /Users/Leon/Library/Python/3.9/lib/python/site-packages (from matplotlib->labelme) (1.4.7)\n",
      "Requirement already satisfied: python-dateutil>=2.7 in /Users/Leon/Library/Python/3.9/lib/python/site-packages (from matplotlib->labelme) (2.9.0.post0)\n",
      "Requirement already satisfied: importlib-resources>=3.2.0 in /Users/Leon/Library/Python/3.9/lib/python/site-packages (from matplotlib->labelme) (6.5.2)\n",
      "Requirement already satisfied: contourpy>=1.0.1 in /Users/Leon/Library/Python/3.9/lib/python/site-packages (from matplotlib->labelme) (1.3.0)\n",
      "Requirement already satisfied: pyparsing>=2.3.1 in /Users/Leon/Library/Python/3.9/lib/python/site-packages (from matplotlib->labelme) (3.2.1)\n",
      "Requirement already satisfied: zipp>=3.1.0 in /Users/Leon/Library/Python/3.9/lib/python/site-packages (from importlib-resources>=3.2.0->matplotlib->labelme) (3.21.0)\n",
      "Requirement already satisfied: six>=1.5 in /Library/Developer/CommandLineTools/Library/Frameworks/Python3.framework/Versions/3.9/lib/python3.9/site-packages (from python-dateutil>=2.7->matplotlib->labelme) (1.15.0)\n",
      "Collecting annotated-types>=0.6.0\n",
      "  Downloading annotated_types-0.7.0-py3-none-any.whl (13 kB)\n",
      "Collecting pydantic-core==2.27.2\n",
      "  Downloading pydantic_core-2.27.2-cp39-cp39-macosx_10_12_x86_64.whl (1.9 MB)\n",
      "\u001b[K     |████████████████████████████████| 1.9 MB 16.2 MB/s eta 0:00:01\n",
      "\u001b[?25hCollecting urllib3<3,>=1.21.1\n",
      "  Downloading urllib3-2.3.0-py3-none-any.whl (128 kB)\n",
      "\u001b[K     |████████████████████████████████| 128 kB 15.0 MB/s eta 0:00:01\n",
      "\u001b[?25hCollecting idna<4,>=2.5\n",
      "  Downloading idna-3.10-py3-none-any.whl (70 kB)\n",
      "\u001b[K     |████████████████████████████████| 70 kB 7.0 MB/s eta 0:00:01\n",
      "\u001b[?25hCollecting charset-normalizer<4,>=2\n",
      "  Downloading charset_normalizer-3.4.1-cp39-cp39-macosx_10_9_universal2.whl (197 kB)\n",
      "\u001b[K     |████████████████████████████████| 197 kB 17.6 MB/s eta 0:00:01\n",
      "\u001b[?25hCollecting certifi>=2017.4.17\n",
      "  Downloading certifi-2025.1.31-py3-none-any.whl (166 kB)\n",
      "\u001b[K     |████████████████████████████████| 166 kB 14.7 MB/s eta 0:00:01\n",
      "\u001b[?25hCollecting PySocks!=1.5.7,>=1.5.6\n",
      "  Downloading PySocks-1.7.1-py3-none-any.whl (16 kB)\n",
      "Collecting imageio>=2.33\n",
      "  Downloading imageio-2.37.0-py3-none-any.whl (315 kB)\n",
      "\u001b[K     |████████████████████████████████| 315 kB 11.3 MB/s eta 0:00:01\n",
      "\u001b[?25hCollecting networkx>=2.8\n",
      "  Downloading networkx-3.2.1-py3-none-any.whl (1.6 MB)\n",
      "\u001b[K     |████████████████████████████████| 1.6 MB 13.6 MB/s eta 0:00:01\n",
      "\u001b[?25hCollecting tifffile>=2022.8.12\n",
      "  Downloading tifffile-2024.8.30-py3-none-any.whl (227 kB)\n",
      "\u001b[K     |████████████████████████████████| 227 kB 14.5 MB/s eta 0:00:01\n",
      "\u001b[?25hCollecting scipy>=1.9\n",
      "  Downloading scipy-1.13.1-cp39-cp39-macosx_10_9_x86_64.whl (39.4 MB)\n",
      "\u001b[K     |████████████████████████████████| 39.4 MB 8.5 MB/s eta 0:00:011\n",
      "\u001b[?25hCollecting lazy-loader>=0.4\n",
      "  Downloading lazy_loader-0.4-py3-none-any.whl (12 kB)\n",
      "Collecting mpmath<1.4,>=1.1.0\n",
      "  Downloading mpmath-1.3.0-py3-none-any.whl (536 kB)\n",
      "\u001b[K     |████████████████████████████████| 536 kB 13.7 MB/s eta 0:00:01\n",
      "\u001b[?25hInstalling collected packages: urllib3, idna, charset-normalizer, certifi, soupsieve, requests, PySocks, mpmath, humanfriendly, tqdm, sympy, pyyaml, pydantic-core, protobuf, flatbuffers, filelock, coloredlogs, beautifulsoup4, annotated-types, tifffile, scipy, PyQt5-sip, PyQt5-Qt5, pydantic, onnxruntime, networkx, loguru, lazy-loader, imgviz, imageio, gdown, click, scikit-image, pyqt5, osam, natsort, labelme\n",
      "Successfully installed PyQt5-Qt5-5.15.16 PyQt5-sip-12.17.0 PySocks-1.7.1 annotated-types-0.7.0 beautifulsoup4-4.13.3 certifi-2025.1.31 charset-normalizer-3.4.1 click-8.1.8 coloredlogs-15.0.1 filelock-3.18.0 flatbuffers-25.2.10 gdown-5.2.0 humanfriendly-10.0 idna-3.10 imageio-2.37.0 imgviz-1.7.6 labelme-5.8.1 lazy-loader-0.4 loguru-0.7.3 mpmath-1.3.0 natsort-8.4.0 networkx-3.2.1 onnxruntime-1.19.2 osam-0.2.3 protobuf-6.30.1 pydantic-2.10.6 pydantic-core-2.27.2 pyqt5-5.15.11 pyyaml-6.0.2 requests-2.32.3 scikit-image-0.24.0 scipy-1.13.1 soupsieve-2.6 sympy-1.13.3 tifffile-2024.8.30 tqdm-4.67.1 urllib3-2.3.0\n",
      "\u001b[33mWARNING: You are using pip version 21.2.4; however, version 25.0.1 is available.\n",
      "You should consider upgrading via the '/Library/Developer/CommandLineTools/usr/bin/python3 -m pip install --upgrade pip' command.\u001b[0m\n",
      "Note: you may need to restart the kernel to use updated packages.\n"
     ]
    }
   ],
   "source": [
    "pip install labelme"
   ]
  }
 ],
 "metadata": {
  "kernelspec": {
   "display_name": "Python 3",
   "language": "python",
   "name": "python3"
  },
  "language_info": {
   "codemirror_mode": {
    "name": "ipython",
    "version": 3
   },
   "file_extension": ".py",
   "mimetype": "text/x-python",
   "name": "python",
   "nbconvert_exporter": "python",
   "pygments_lexer": "ipython3",
   "version": "3.9.6"
  }
 },
 "nbformat": 4,
 "nbformat_minor": 2
}
