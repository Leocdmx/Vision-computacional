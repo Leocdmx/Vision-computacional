{
 "cells": [
  {
   "cell_type": "code",
   "execution_count": 1,
   "metadata": {},
   "outputs": [],
   "source": [
    "path='/Users/Leon/Documents/Data GH/Vision Computación/Texturas/Brodatz_examples'"
   ]
  },
  {
   "cell_type": "code",
   "execution_count": 2,
   "metadata": {},
   "outputs": [],
   "source": [
    "import os\n",
    "from skimage import io\n",
    "\n",
    "\n",
    "# Lista para almacenar las imágenes en su formato original\n",
    "imagenes = []\n",
    "nombres_archivos = []\n",
    "\n",
    "# Recorrer la carpeta y cargar las imágenes .bmp\n",
    "for archivo in os.listdir(path):\n",
    "    if archivo.lower().endswith(\".bmp\"):\n",
    "        ruta = os.path.join(path, archivo)\n",
    "        img = io.imread(ruta)\n",
    "        imagenes.append(img)\n",
    "        nombres_archivos.append(archivo)"
   ]
  },
  {
   "cell_type": "code",
   "execution_count": 3,
   "metadata": {},
   "outputs": [],
   "source": [
    "import random\n",
    "# Emparejar nombre + imagen\n",
    "imagenes_con_nombre = list(zip(nombres_archivos, imagenes))\n",
    "\n",
    "# Barajar y seleccionar 4 al azar para test\n",
    "random.seed(42)  # Para reproducibilidad\n",
    "random.shuffle(imagenes_con_nombre)\n",
    "test_set = imagenes_con_nombre[:5]\n",
    "train_set = imagenes_con_nombre[5:]\n",
    "\n",
    "# Separar nombres e imágenes para cada conjunto\n",
    "nombres_test, imagenes_test = zip(*test_set)\n",
    "nombres_train, imagenes_train = zip(*train_set)"
   ]
  },
  {
   "cell_type": "code",
   "execution_count": 10,
   "metadata": {},
   "outputs": [
    {
     "data": {
      "text/plain": [
       "('D94.bmp', 'D17.bmp', 'D103.bmp', 'D34.bmp', 'D51.bmp')"
      ]
     },
     "execution_count": 10,
     "metadata": {},
     "output_type": "execute_result"
    }
   ],
   "source": [
    "nombres_test"
   ]
  },
  {
   "cell_type": "code",
   "execution_count": 13,
   "metadata": {},
   "outputs": [
    {
     "name": "stdout",
     "output_type": "stream",
     "text": [
      "Imagen 'D85.bmp' → 100 texeles generados.\n",
      "Imagen 'D8.bmp' → 100 texeles generados.\n",
      "Imagen 'D46.bmp' → 100 texeles generados.\n",
      "Imagen 'D96.bmp' → 100 texeles generados.\n",
      "Imagen 'D56.bmp' → 100 texeles generados.\n",
      "Imagen 'D1.bmp' → 100 texeles generados.\n",
      "Imagen 'D52.bmp' → 100 texeles generados.\n",
      "Imagen 'D104.bmp' → 100 texeles generados.\n",
      "Imagen 'D64.bmp' → 100 texeles generados.\n",
      "Imagen 'D48.bmp' → 100 texeles generados.\n",
      "Imagen 'D3.bmp' → 100 texeles generados.\n",
      "Imagen 'D20.bmp' → 100 texeles generados.\n",
      "Imagen 'D6.bmp' → 100 texeles generados.\n",
      "Imagen 'D101.bmp' → 100 texeles generados.\n",
      "Imagen 'D65.bmp' → 100 texeles generados.\n",
      "Imagen 'D49.bmp' → 100 texeles generados.\n",
      "Imagen 'D10.bmp' → 100 texeles generados.\n",
      "Imagen 'D16.bmp' → 100 texeles generados.\n",
      "Imagen 'D26.bmp' → 100 texeles generados.\n"
     ]
    }
   ],
   "source": [
    "from skimage.util import view_as_windows\n",
    "\n",
    "\n",
    "# Tamaño del texel\n",
    "tamaño_texel = (64, 64)\n",
    "stride = 64\n",
    "\n",
    "# Diccionario para guardar los texeles por imagen\n",
    "texeles_train = {}\n",
    "\n",
    "for nombre, imagen in zip(nombres_train, imagenes_train):\n",
    "    alto, ancho = imagen.shape[:2]\n",
    "    \n",
    "    # Validación: convertir a escala de grises si es RGB\n",
    "    if len(imagen.shape) == 3:\n",
    "        from skimage.color import rgb2gray\n",
    "        imagen = rgb2gray(imagen)\n",
    "    \n",
    "    # Extraer ventanas\n",
    "    ventanas = view_as_windows(imagen, tamaño_texel, step=stride)\n",
    "    ventanas = ventanas.reshape(-1, *tamaño_texel)\n",
    "    \n",
    "    texeles_train[nombre] = ventanas\n",
    "    print(f\"Imagen '{nombre}' → {ventanas.shape[0]} texeles generados.\")\n"
   ]
  },
  {
   "cell_type": "code",
   "execution_count": 15,
   "metadata": {},
   "outputs": [
    {
     "name": "stdout",
     "output_type": "stream",
     "text": [
      "Imagen 'D94.bmp' → 100 texeles generados.\n",
      "Imagen 'D17.bmp' → 100 texeles generados.\n",
      "Imagen 'D103.bmp' → 100 texeles generados.\n",
      "Imagen 'D34.bmp' → 100 texeles generados.\n",
      "Imagen 'D51.bmp' → 100 texeles generados.\n"
     ]
    }
   ],
   "source": [
    "\n",
    "# Diccionario para guardar los texeles por imagen\n",
    "texeles_test = {}\n",
    "\n",
    "for nombre, imagen in zip(nombres_test, imagenes_test):\n",
    "    alto, ancho = imagen.shape[:2]\n",
    "    \n",
    "    # Validación: convertir a escala de grises si es RGB\n",
    "    if len(imagen.shape) == 3:\n",
    "        from skimage.color import rgb2gray\n",
    "        imagen = rgb2gray(imagen)\n",
    "    \n",
    "    # Extraer ventanas\n",
    "    ventanas = view_as_windows(imagen, tamaño_texel, step=stride)\n",
    "    ventanas = ventanas.reshape(-1, *tamaño_texel)\n",
    "    \n",
    "    texeles_train[nombre] = ventanas\n",
    "    print(f\"Imagen '{nombre}' → {ventanas.shape[0]} texeles generados.\")"
   ]
  },
  {
   "cell_type": "code",
   "execution_count": 16,
   "metadata": {},
   "outputs": [
    {
     "data": {
      "text/plain": [
       "{}"
      ]
     },
     "execution_count": 16,
     "metadata": {},
     "output_type": "execute_result"
    }
   ],
   "source": [
    "texeles_test"
   ]
  },
  {
   "cell_type": "code",
   "execution_count": 6,
   "metadata": {},
   "outputs": [
    {
     "data": {
      "image/png": "[encoded data removed]",
      "text/plain": [
       "<Figure size 640x480 with 1 Axes>"
      ]
     },
     "metadata": {},
     "output_type": "display_data"
    }
   ],
   "source": [
    "# Mostrar el primer texel (opcional)\n",
    "import matplotlib.pyplot as plt\n",
    "\n",
    "# Ejemplo: acceso a texeles \n",
    "imng_txl = nombres_train[0]\n",
    "texel = texeles_train[imng_txl][1]\n",
    "\n",
    "\n",
    "plt.imshow(texel, cmap='gray')\n",
    "plt.title(f\"Primer texel de {imng_txl}\")\n",
    "plt.axis('off')\n",
    "plt.show()\n"
   ]
  },
  {
   "cell_type": "code",
   "execution_count": 7,
   "metadata": {},
   "outputs": [],
   "source": [
    "from skimage.feature import graycomatrix, graycoprops\n",
    "import numpy as np\n",
    "\n",
    "def extraer_huella_digital(texel):\n",
    "    texel_uint8 = (texel * 255).astype(np.uint8)\n",
    "\n",
    "    # Dos configuraciones diferentes\n",
    "    configuraciones = [\n",
    "        (1, 0),\n",
    "        (2, np.pi/4)\n",
    "    ]\n",
    "\n",
    "    propiedades = ['contrast', 'dissimilarity', 'homogeneity', 'energy', 'correlation', 'ASM']\n",
    "    vector_caracteristicas = []\n",
    "\n",
    "    for distancia, angulo in configuraciones:\n",
    "        glcm = graycomatrix(\n",
    "            texel_uint8,\n",
    "            distances=[distancia],\n",
    "            angles=[angulo],\n",
    "            levels=256,\n",
    "            symmetric=True,\n",
    "            normed=True\n",
    "        )\n",
    "\n",
    "        for prop in propiedades:\n",
    "            valor = graycoprops(glcm, prop)[0, 0]  # Solo una distancia y ángulo por vez\n",
    "            vector_caracteristicas.append(valor)\n",
    "\n",
    "    return vector_caracteristicas\n",
    "\n"
   ]
  },
  {
   "cell_type": "code",
   "execution_count": 8,
   "metadata": {},
   "outputs": [],
   "source": [
    "X_train = []\n",
    "y_train = []\n",
    "\n",
    "for idx, nombre in enumerate(nombres_train):\n",
    "    for texel in texeles_train[nombre]:\n",
    "        vector = extraer_huella_digital(texel)\n",
    "        X_train.append(vector)\n",
    "        y_train.append(nombre)\n",
    "\n"
   ]
  },
  {
   "cell_type": "code",
   "execution_count": 11,
   "metadata": {},
   "outputs": [
    {
     "ename": "KeyError",
     "evalue": "'D94.bmp'",
     "output_type": "error",
     "traceback": [
      "\u001b[0;31m---------------------------------------------------------------------------\u001b[0m",
      "\u001b[0;31mKeyError\u001b[0m                                  Traceback (most recent call last)",
      "Cell \u001b[0;32mIn[11], line 5\u001b[0m\n\u001b[1;32m      2\u001b[0m y_test \u001b[38;5;241m=\u001b[39m []\n\u001b[1;32m      4\u001b[0m \u001b[38;5;28;01mfor\u001b[39;00m idx, nombre \u001b[38;5;129;01min\u001b[39;00m \u001b[38;5;28menumerate\u001b[39m(nombres_test):\n\u001b[0;32m----> 5\u001b[0m     \u001b[38;5;28;01mfor\u001b[39;00m texel \u001b[38;5;129;01min\u001b[39;00m \u001b[43mtexeles_test\u001b[49m\u001b[43m[\u001b[49m\u001b[43mnombre\u001b[49m\u001b[43m]\u001b[49m:\n\u001b[1;32m      6\u001b[0m         vector \u001b[38;5;241m=\u001b[39m extraer_huella_digital(texel)\n\u001b[1;32m      7\u001b[0m         X_test\u001b[38;5;241m.\u001b[39mappend(vector)\n",
      "\u001b[0;31mKeyError\u001b[0m: 'D94.bmp'"
     ]
    }
   ],
   "source": [
    "X_test = []\n",
    "y_test = []\n",
    "\n",
    "for idx, nombre in enumerate(nombres_test):\n",
    "    for texel in texeles_test[nombre]:\n",
    "        vector = extraer_huella_digital(texel)\n",
    "        X_test.append(vector)\n",
    "        y_test.append(nombre)"
   ]
  },
  {
   "cell_type": "code",
   "execution_count": 12,
   "metadata": {},
   "outputs": [
    {
     "data": {
      "text/plain": [
       "{}"
      ]
     },
     "execution_count": 12,
     "metadata": {},
     "output_type": "execute_result"
    }
   ],
   "source": [
    "texeles_test"
   ]
  }
 ],
 "metadata": {
  "kernelspec": {
   "display_name": "Python 3",
   "language": "python",
   "name": "python3"
  },
  "language_info": {
   "codemirror_mode": {
    "name": "ipython",
    "version": 3
   },
   "file_extension": ".py",
   "mimetype": "text/x-python",
   "name": "python",
   "nbconvert_exporter": "python",
   "pygments_lexer": "ipython3",
   "version": "3.9.6"
  }
 },
 "nbformat": 4,
 "nbformat_minor": 2
}
